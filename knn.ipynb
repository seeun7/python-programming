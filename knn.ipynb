{
  "nbformat": 4,
  "nbformat_minor": 0,
  "metadata": {
    "colab": {
      "provenance": [],
      "authorship_tag": "ABX9TyMGXgtfO2FXtxAM/wMw4+Ne",
      "include_colab_link": true
    },
    "kernelspec": {
      "name": "python3",
      "display_name": "Python 3"
    },
    "language_info": {
      "name": "python"
    }
  },
  "cells": [
    {
      "cell_type": "markdown",
      "metadata": {
        "id": "view-in-github",
        "colab_type": "text"
      },
      "source": [
        "<a href=\"https://colab.research.google.com/github/seeun7/python-programming/blob/main/knn.ipynb\" target=\"_parent\"><img src=\"https://colab.research.google.com/assets/colab-badge.svg\" alt=\"Open In Colab\"/></a>"
      ]
    },
    {
      "cell_type": "markdown",
      "source": [
        "*#인공지능 HW2 202310954 컴퓨터과학전공 이세은#*"
      ],
      "metadata": {
        "id": "uw3qgR8HDp2w"
      }
    },
    {
      "cell_type": "markdown",
      "source": [
        "아래 클래스는 기존 NearestNeighbor에서 사용자가 원하는 k값을 설정하거나 거리(distance)를 구하는 방법 두가지(L1,L2)중 하나를 선택해서 매개변수로 입력할 수 있도록 구현되었습니다."
      ],
      "metadata": {
        "id": "LKbU1XrwD0dT"
      }
    },
    {
      "cell_type": "code",
      "source": [
        "import numpy as np\n",
        "\n",
        "class NearestNeighbor:\n",
        "    def __init__(self):\n",
        "      pass\n",
        "    def train(self, X, y):\n",
        "        self.Xtr = X\n",
        "        self.ytr = y\n",
        "    def predict(self, X, k=1, distance='L1'):\n",
        "        num_test = X.shape[0]\n",
        "        Ypred = np.zeros(num_test, dtype=self.ytr.dtype)\n",
        "        for i in range(num_test):\n",
        "            if distance == 'L1':\n",
        "                distances = np.sum(np.abs(self.Xtr - X[i, :]), axis=1) #numpy의 abs() 함수는 절대값을 계산한다. 거리 계산시에 음수를 방지하기 위해 사용\n",
        "            elif distance == 'L2':\n",
        "                distances = np.sqrt(np.sum((self.Xtr - X[i, :]) ** 2, axis=1))\n",
        "\n",
        "            sorted = np.argsort(distances)  #argsort() 함수는 배열을 정렬했을 때의 인덱스를 반환한다. 거리를 오름차순으로 정렬\n",
        "            k_nearest = sorted[:k]\n",
        "\n",
        "            k_nearest_labels = self.ytr[k_nearest]\n",
        "            unique, counts = np.unique(k_nearest_labels, return_counts=True) # unique() 함수는 배열에서 중복되지 않는 고유한 요소들을 반환한다.\n",
        "            Ypred[i] = unique[np.argmax(counts)]\n",
        "        return Ypred"
      ],
      "metadata": {
        "id": "7BHCGaWitVtD"
      },
      "execution_count": 4,
      "outputs": []
    }
  ]
}