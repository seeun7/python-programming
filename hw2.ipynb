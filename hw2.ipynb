{
  "nbformat": 4,
  "nbformat_minor": 0,
  "metadata": {
    "colab": {
      "provenance": [],
      "mount_file_id": "1A1zq3oi42vx7ZLIbFytKOXzGNJiuljcI",
      "authorship_tag": "ABX9TyOKrcv4pzillaFq65uxBFZZ",
      "include_colab_link": true
    },
    "kernelspec": {
      "name": "python3",
      "display_name": "Python 3"
    },
    "language_info": {
      "name": "python"
    }
  },
  "cells": [
    {
      "cell_type": "markdown",
      "metadata": {
        "id": "view-in-github",
        "colab_type": "text"
      },
      "source": [
        "<a href=\"https://colab.research.google.com/github/seeun7/python-programming/blob/main/hw2.ipynb\" target=\"_parent\"><img src=\"https://colab.research.google.com/assets/colab-badge.svg\" alt=\"Open In Colab\"/></a>"
      ]
    },
    {
      "cell_type": "markdown",
      "source": [
        "*#인공지능 HW2 202310954 컴퓨터과학전공 이세은#*"
      ],
      "metadata": {
        "id": "RssFj04Qo-I6"
      }
    },
    {
      "cell_type": "markdown",
      "source": [
        "필요한 모듈을 import 해온다"
      ],
      "metadata": {
        "id": "7XsG9gUDty3d"
      }
    },
    {
      "cell_type": "code",
      "source": [
        "import numpy as np\n",
        "import matplotlib.pyplot as plt"
      ],
      "metadata": {
        "id": "MKeEr8nFtkIH"
      },
      "execution_count": 15,
      "outputs": []
    },
    {
      "cell_type": "markdown",
      "source": [
        "구글 드라이버 마운팅"
      ],
      "metadata": {
        "id": "JOxAZNR1MyPD"
      }
    },
    {
      "cell_type": "code",
      "source": [
        "from google.colab import drive\n",
        "drive.mount('/content/drive/')"
      ],
      "metadata": {
        "id": "q1k5TlkNt2KA",
        "colab": {
          "base_uri": "https://localhost:8080/"
        },
        "outputId": "0f48ede3-9e41-4cc8-8c71-cae4d0d61868"
      },
      "execution_count": 16,
      "outputs": [
        {
          "output_type": "stream",
          "name": "stdout",
          "text": [
            "Drive already mounted at /content/drive/; to attempt to forcibly remount, call drive.mount(\"/content/drive/\", force_remount=True).\n"
          ]
        }
      ]
    },
    {
      "cell_type": "markdown",
      "source": [
        "접근할 폴더 설정, 확인"
      ],
      "metadata": {
        "id": "uQ2u0P4iNMIX"
      }
    },
    {
      "cell_type": "code",
      "source": [
        "%cd /content/drive/MyDrive/AI/\n",
        "!pwd"
      ],
      "metadata": {
        "colab": {
          "base_uri": "https://localhost:8080/"
        },
        "id": "G5sJm8rk_nTA",
        "outputId": "f35bd7d6-7ccc-456c-f67c-3038a9b3fa7c"
      },
      "execution_count": 17,
      "outputs": [
        {
          "output_type": "stream",
          "name": "stdout",
          "text": [
            "/content/drive/MyDrive/AI\n",
            "/content/drive/MyDrive/AI\n"
          ]
        }
      ]
    },
    {
      "cell_type": "markdown",
      "source": [
        "pickle 모듈의 open 메소드를 활용해 파일 읽어들인 후, 파일을 이미지로 만들어 분리하고 training image와 label으로 합치기"
      ],
      "metadata": {
        "id": "ECAQRjuNNPZ0"
      }
    },
    {
      "cell_type": "code",
      "source": [
        "import pickle\n",
        "def unpickle(file):\n",
        "  with open(file, 'rb') as fo:\n",
        "    dict = pickle.load(fo, encoding='bytes')\n",
        "  return dict\n",
        "bat1 = unpickle('data_batch_1')\n",
        "bat2 = unpickle('data_batch_2')\n",
        "bat3 = unpickle('data_batch_3')\n",
        "bat4 = unpickle('data_batch_4')\n",
        "bat5 = unpickle('data_batch_5')\n",
        "bat_test = unpickle('test_batch')\n",
        "data = np.concatenate([bat1[b'data'], bat2[b'data'], bat3[b'data'],bat4[b'data'],\n",
        "bat5[b'data']])\n",
        "labels = np.concatenate([bat1[b'labels'], bat2[b'labels'], bat3[b'labels'],bat4[b'labels'],\n",
        "bat5[b'labels']])"
      ],
      "metadata": {
        "id": "_YdcP_t8_6WE"
      },
      "execution_count": 18,
      "outputs": []
    },
    {
      "cell_type": "markdown",
      "source": [
        "컴퓨터에 저장된 knn.py 파일 임포트"
      ],
      "metadata": {
        "id": "GBvaFSlgN8t3"
      }
    },
    {
      "cell_type": "code",
      "source": [
        "from google.colab import files\n",
        "files.upload()"
      ],
      "metadata": {
        "colab": {
          "base_uri": "https://localhost:8080/",
          "height": 407
        },
        "id": "EZZx82g4AfQD",
        "outputId": "ffe15054-ec17-4bfe-d600-07b71889da45"
      },
      "execution_count": 19,
      "outputs": [
        {
          "output_type": "display_data",
          "data": {
            "text/plain": [
              "<IPython.core.display.HTML object>"
            ],
            "text/html": [
              "\n",
              "     <input type=\"file\" id=\"files-b8f2fbe5-b908-4217-8e01-126f8952714a\" name=\"files[]\" multiple disabled\n",
              "        style=\"border:none\" />\n",
              "     <output id=\"result-b8f2fbe5-b908-4217-8e01-126f8952714a\">\n",
              "      Upload widget is only available when the cell has been executed in the\n",
              "      current browser session. Please rerun this cell to enable.\n",
              "      </output>\n",
              "      <script>// Copyright 2017 Google LLC\n",
              "//\n",
              "// Licensed under the Apache License, Version 2.0 (the \"License\");\n",
              "// you may not use this file except in compliance with the License.\n",
              "// You may obtain a copy of the License at\n",
              "//\n",
              "//      http://www.apache.org/licenses/LICENSE-2.0\n",
              "//\n",
              "// Unless required by applicable law or agreed to in writing, software\n",
              "// distributed under the License is distributed on an \"AS IS\" BASIS,\n",
              "// WITHOUT WARRANTIES OR CONDITIONS OF ANY KIND, either express or implied.\n",
              "// See the License for the specific language governing permissions and\n",
              "// limitations under the License.\n",
              "\n",
              "/**\n",
              " * @fileoverview Helpers for google.colab Python module.\n",
              " */\n",
              "(function(scope) {\n",
              "function span(text, styleAttributes = {}) {\n",
              "  const element = document.createElement('span');\n",
              "  element.textContent = text;\n",
              "  for (const key of Object.keys(styleAttributes)) {\n",
              "    element.style[key] = styleAttributes[key];\n",
              "  }\n",
              "  return element;\n",
              "}\n",
              "\n",
              "// Max number of bytes which will be uploaded at a time.\n",
              "const MAX_PAYLOAD_SIZE = 100 * 1024;\n",
              "\n",
              "function _uploadFiles(inputId, outputId) {\n",
              "  const steps = uploadFilesStep(inputId, outputId);\n",
              "  const outputElement = document.getElementById(outputId);\n",
              "  // Cache steps on the outputElement to make it available for the next call\n",
              "  // to uploadFilesContinue from Python.\n",
              "  outputElement.steps = steps;\n",
              "\n",
              "  return _uploadFilesContinue(outputId);\n",
              "}\n",
              "\n",
              "// This is roughly an async generator (not supported in the browser yet),\n",
              "// where there are multiple asynchronous steps and the Python side is going\n",
              "// to poll for completion of each step.\n",
              "// This uses a Promise to block the python side on completion of each step,\n",
              "// then passes the result of the previous step as the input to the next step.\n",
              "function _uploadFilesContinue(outputId) {\n",
              "  const outputElement = document.getElementById(outputId);\n",
              "  const steps = outputElement.steps;\n",
              "\n",
              "  const next = steps.next(outputElement.lastPromiseValue);\n",
              "  return Promise.resolve(next.value.promise).then((value) => {\n",
              "    // Cache the last promise value to make it available to the next\n",
              "    // step of the generator.\n",
              "    outputElement.lastPromiseValue = value;\n",
              "    return next.value.response;\n",
              "  });\n",
              "}\n",
              "\n",
              "/**\n",
              " * Generator function which is called between each async step of the upload\n",
              " * process.\n",
              " * @param {string} inputId Element ID of the input file picker element.\n",
              " * @param {string} outputId Element ID of the output display.\n",
              " * @return {!Iterable<!Object>} Iterable of next steps.\n",
              " */\n",
              "function* uploadFilesStep(inputId, outputId) {\n",
              "  const inputElement = document.getElementById(inputId);\n",
              "  inputElement.disabled = false;\n",
              "\n",
              "  const outputElement = document.getElementById(outputId);\n",
              "  outputElement.innerHTML = '';\n",
              "\n",
              "  const pickedPromise = new Promise((resolve) => {\n",
              "    inputElement.addEventListener('change', (e) => {\n",
              "      resolve(e.target.files);\n",
              "    });\n",
              "  });\n",
              "\n",
              "  const cancel = document.createElement('button');\n",
              "  inputElement.parentElement.appendChild(cancel);\n",
              "  cancel.textContent = 'Cancel upload';\n",
              "  const cancelPromise = new Promise((resolve) => {\n",
              "    cancel.onclick = () => {\n",
              "      resolve(null);\n",
              "    };\n",
              "  });\n",
              "\n",
              "  // Wait for the user to pick the files.\n",
              "  const files = yield {\n",
              "    promise: Promise.race([pickedPromise, cancelPromise]),\n",
              "    response: {\n",
              "      action: 'starting',\n",
              "    }\n",
              "  };\n",
              "\n",
              "  cancel.remove();\n",
              "\n",
              "  // Disable the input element since further picks are not allowed.\n",
              "  inputElement.disabled = true;\n",
              "\n",
              "  if (!files) {\n",
              "    return {\n",
              "      response: {\n",
              "        action: 'complete',\n",
              "      }\n",
              "    };\n",
              "  }\n",
              "\n",
              "  for (const file of files) {\n",
              "    const li = document.createElement('li');\n",
              "    li.append(span(file.name, {fontWeight: 'bold'}));\n",
              "    li.append(span(\n",
              "        `(${file.type || 'n/a'}) - ${file.size} bytes, ` +\n",
              "        `last modified: ${\n",
              "            file.lastModifiedDate ? file.lastModifiedDate.toLocaleDateString() :\n",
              "                                    'n/a'} - `));\n",
              "    const percent = span('0% done');\n",
              "    li.appendChild(percent);\n",
              "\n",
              "    outputElement.appendChild(li);\n",
              "\n",
              "    const fileDataPromise = new Promise((resolve) => {\n",
              "      const reader = new FileReader();\n",
              "      reader.onload = (e) => {\n",
              "        resolve(e.target.result);\n",
              "      };\n",
              "      reader.readAsArrayBuffer(file);\n",
              "    });\n",
              "    // Wait for the data to be ready.\n",
              "    let fileData = yield {\n",
              "      promise: fileDataPromise,\n",
              "      response: {\n",
              "        action: 'continue',\n",
              "      }\n",
              "    };\n",
              "\n",
              "    // Use a chunked sending to avoid message size limits. See b/62115660.\n",
              "    let position = 0;\n",
              "    do {\n",
              "      const length = Math.min(fileData.byteLength - position, MAX_PAYLOAD_SIZE);\n",
              "      const chunk = new Uint8Array(fileData, position, length);\n",
              "      position += length;\n",
              "\n",
              "      const base64 = btoa(String.fromCharCode.apply(null, chunk));\n",
              "      yield {\n",
              "        response: {\n",
              "          action: 'append',\n",
              "          file: file.name,\n",
              "          data: base64,\n",
              "        },\n",
              "      };\n",
              "\n",
              "      let percentDone = fileData.byteLength === 0 ?\n",
              "          100 :\n",
              "          Math.round((position / fileData.byteLength) * 100);\n",
              "      percent.textContent = `${percentDone}% done`;\n",
              "\n",
              "    } while (position < fileData.byteLength);\n",
              "  }\n",
              "\n",
              "  // All done.\n",
              "  yield {\n",
              "    response: {\n",
              "      action: 'complete',\n",
              "    }\n",
              "  };\n",
              "}\n",
              "\n",
              "scope.google = scope.google || {};\n",
              "scope.google.colab = scope.google.colab || {};\n",
              "scope.google.colab._files = {\n",
              "  _uploadFiles,\n",
              "  _uploadFilesContinue,\n",
              "};\n",
              "})(self);\n",
              "</script> "
            ]
          },
          "metadata": {}
        },
        {
          "output_type": "stream",
          "name": "stdout",
          "text": [
            "Saving knn.py to knn (3).py\n"
          ]
        },
        {
          "output_type": "execute_result",
          "data": {
            "text/plain": [
              "{'knn (3).py': b'# -*- coding: utf-8 -*-\\n\"\"\"knn.ipynb\\n\\nAutomatically generated by Colaboratory.\\n\\nOriginal file is located at\\n    https://colab.research.google.com/drive/1ifJF-fUPLbJoNXC3XRKVIjpJv1L4kZOD\\n\\n*#\\xec\\x9d\\xb8\\xea\\xb3\\xb5\\xec\\xa7\\x80\\xeb\\x8a\\xa5 HW2 202310954 \\xec\\xbb\\xb4\\xed\\x93\\xa8\\xed\\x84\\xb0\\xea\\xb3\\xbc\\xed\\x95\\x99\\xec\\xa0\\x84\\xea\\xb3\\xb5 \\xec\\x9d\\xb4\\xec\\x84\\xb8\\xec\\x9d\\x80#*\\n\\n\\xec\\x95\\x84\\xeb\\x9e\\x98 \\xed\\x81\\xb4\\xeb\\x9e\\x98\\xec\\x8a\\xa4\\xeb\\x8a\\x94 \\xea\\xb8\\xb0\\xec\\xa1\\xb4 NearestNeighbor\\xec\\x97\\x90\\xec\\x84\\x9c \\xec\\x82\\xac\\xec\\x9a\\xa9\\xec\\x9e\\x90\\xea\\xb0\\x80 \\xec\\x9b\\x90\\xed\\x95\\x98\\xeb\\x8a\\x94 k\\xea\\xb0\\x92\\xec\\x9d\\x84 \\xec\\x84\\xa4\\xec\\xa0\\x95\\xed\\x95\\x98\\xea\\xb1\\xb0\\xeb\\x82\\x98 \\xea\\xb1\\xb0\\xeb\\xa6\\xac(distance)\\xeb\\xa5\\xbc \\xea\\xb5\\xac\\xed\\x95\\x98\\xeb\\x8a\\x94 \\xeb\\xb0\\xa9\\xeb\\xb2\\x95 \\xeb\\x91\\x90\\xea\\xb0\\x80\\xec\\xa7\\x80(L1,L2)\\xec\\xa4\\x91 \\xed\\x95\\x98\\xeb\\x82\\x98\\xeb\\xa5\\xbc \\xec\\x84\\xa0\\xed\\x83\\x9d\\xed\\x95\\xb4\\xec\\x84\\x9c \\xeb\\xa7\\xa4\\xea\\xb0\\x9c\\xeb\\xb3\\x80\\xec\\x88\\x98\\xeb\\xa1\\x9c \\xec\\x9e\\x85\\xeb\\xa0\\xa5\\xed\\x95\\xa0 \\xec\\x88\\x98 \\xec\\x9e\\x88\\xeb\\x8f\\x84\\xeb\\xa1\\x9d \\xea\\xb5\\xac\\xed\\x98\\x84\\xeb\\x90\\x98\\xec\\x97\\x88\\xec\\x8a\\xb5\\xeb\\x8b\\x88\\xeb\\x8b\\xa4.\\n\"\"\"\\n\\nimport numpy as np\\n\\nclass NearestNeighbor:\\n    def __init__(self):\\n      pass\\n    def train(self, X, y):\\n        self.Xtr = X\\n        self.ytr = y\\n    def predict(self, X, k=1, distance=\\'L1\\'):\\n        num_test = X.shape[0]\\n        Ypred = np.zeros(num_test, dtype=self.ytr.dtype)\\n        for i in range(num_test):\\n            if distance == \\'L1\\':\\n                distances = np.sum(np.abs(self.Xtr - X[i, :]), axis=1) #numpy\\xec\\x9d\\x98 abs() \\xed\\x95\\xa8\\xec\\x88\\x98\\xeb\\x8a\\x94 \\xec\\xa0\\x88\\xeb\\x8c\\x80\\xea\\xb0\\x92\\xec\\x9d\\x84 \\xea\\xb3\\x84\\xec\\x82\\xb0\\xed\\x95\\x9c\\xeb\\x8b\\xa4. \\xea\\xb1\\xb0\\xeb\\xa6\\xac \\xea\\xb3\\x84\\xec\\x82\\xb0\\xec\\x8b\\x9c\\xec\\x97\\x90 \\xec\\x9d\\x8c\\xec\\x88\\x98\\xeb\\xa5\\xbc \\xeb\\xb0\\xa9\\xec\\xa7\\x80\\xed\\x95\\x98\\xea\\xb8\\xb0 \\xec\\x9c\\x84\\xed\\x95\\xb4 \\xec\\x82\\xac\\xec\\x9a\\xa9\\n            elif distance == \\'L2\\':\\n                distances = np.sqrt(np.sum((self.Xtr - X[i, :]) ** 2, axis=1))\\n\\n            sorted = np.argsort(distances)  #argsort() \\xed\\x95\\xa8\\xec\\x88\\x98\\xeb\\x8a\\x94 \\xeb\\xb0\\xb0\\xec\\x97\\xb4\\xec\\x9d\\x84 \\xec\\xa0\\x95\\xeb\\xa0\\xac\\xed\\x96\\x88\\xec\\x9d\\x84 \\xeb\\x95\\x8c\\xec\\x9d\\x98 \\xec\\x9d\\xb8\\xeb\\x8d\\xb1\\xec\\x8a\\xa4\\xeb\\xa5\\xbc \\xeb\\xb0\\x98\\xed\\x99\\x98\\xed\\x95\\x9c\\xeb\\x8b\\xa4. \\xea\\xb1\\xb0\\xeb\\xa6\\xac\\xeb\\xa5\\xbc \\xec\\x98\\xa4\\xeb\\xa6\\x84\\xec\\xb0\\xa8\\xec\\x88\\x9c\\xec\\x9c\\xbc\\xeb\\xa1\\x9c \\xec\\xa0\\x95\\xeb\\xa0\\xac\\n            k_nearest = sorted[:k]\\n\\n            k_nearest_labels = self.ytr[k_nearest]\\n            unique, counts = np.unique(k_nearest_labels, return_counts=True)\\n            Ypred[i] = unique[np.argmax(counts)]\\n        return Ypred\\n\\n'}"
            ]
          },
          "metadata": {},
          "execution_count": 19
        }
      ]
    },
    {
      "cell_type": "markdown",
      "source": [
        "knn.py 속 클래스가 의도한대로 정상 작동하는지 테스트하기 위한 코드.\n",
        "반복문을 이용해 올바른 k값이 입력될 때까지 입력받고, 그 k값을 클래스 안의 predict 메서드에 매개변수로 전달한다. 또한 함수를 호출할 때 거리를 구할 방법 (L1 or L2)을 매개변수로 입력받는다. 아래 코드는 13을 입력했을 경우이다."
      ],
      "metadata": {
        "id": "bvMRx1ZaOLHq"
      }
    },
    {
      "cell_type": "code",
      "source": [
        "from knn import NearestNeighbor\n",
        "train_data = data\n",
        "train_label = labels\n",
        "test_data = bat_test[b'data']\n",
        "test_label = bat_test[b'labels']\n",
        "test_size = 10\n",
        "NN = NearestNeighbor()\n",
        "NN.train(train_data,train_label)\n",
        "while True:\n",
        "  k=int(input(\"1~15사이의 홀수를 입력하세요:\"))\n",
        "  if k>15 or k<1 or k%2==0:\n",
        "    print(\"잘못된 입력입니다.\")\n",
        "  else:\n",
        "    break\n",
        "test_in = test_data[0:test_size]\n",
        "pred = NN.predict(test_in, k,'L1')\n",
        "num_correct = np.sum(pred == test_label[0:test_size])\n",
        "accuracy = float(num_correct) / test_size\n",
        "print(pred)\n",
        "print(test_label[0:test_size])\n",
        "print(\"The accuracy is (%):\", accuracy*100)"
      ],
      "metadata": {
        "colab": {
          "base_uri": "https://localhost:8080/"
        },
        "id": "k-4lvfuKCK5I",
        "outputId": "0b0e948b-a546-47d6-8ab2-f9cf6a4a5323"
      },
      "execution_count": 20,
      "outputs": [
        {
          "output_type": "stream",
          "name": "stdout",
          "text": [
            "1~15사이의 홀수를 입력하세요:13\n",
            "[0 1 8 0 0 2 4 2 0 1]\n",
            "[3, 8, 8, 0, 6, 6, 1, 6, 3, 1]\n",
            "The accuracy is (%): 30.0\n"
          ]
        }
      ]
    },
    {
      "cell_type": "markdown",
      "source": [
        "아래 코드는 반대로 3을 입력했을 경우이다. 정확도가 k값에 따라 다르게 나오는 것을 확인할 수 있다."
      ],
      "metadata": {
        "id": "j1icIAm4QffU"
      }
    },
    {
      "cell_type": "code",
      "source": [
        "while True:\n",
        "  k=int(input(\"1~15사이의 홀수를 입력하세요:\"))\n",
        "  if k>15 or k<1 or k%2==0:\n",
        "    print(\"잘못된 입력입니다.\")\n",
        "  else:\n",
        "    break\n",
        "test_in = test_data[0:test_size]\n",
        "pred = NN.predict(test_in, k,'L1')\n",
        "num_correct = np.sum(pred == test_label[0:test_size])\n",
        "accuracy = float(num_correct) / test_size\n",
        "print(pred)\n",
        "print(test_label[0:test_size])\n",
        "print(\"The accuracy is (%):\", accuracy*100)"
      ],
      "metadata": {
        "colab": {
          "base_uri": "https://localhost:8080/"
        },
        "id": "ezlRMZS5PRft",
        "outputId": "5d022077-ff41-4f98-b70a-05d095df84ad"
      },
      "execution_count": 21,
      "outputs": [
        {
          "output_type": "stream",
          "name": "stdout",
          "text": [
            "1~15사이의 홀수를 입력하세요:3\n",
            "[0 8 1 0 0 0 4 0 0 8]\n",
            "[3, 8, 8, 0, 6, 6, 1, 6, 3, 1]\n",
            "The accuracy is (%): 20.0\n"
          ]
        }
      ]
    },
    {
      "cell_type": "markdown",
      "source": [
        "아래 코드는 가능한 k값을 모두 k_values라는 리스트에 정의하고 반복문을 이용해 각 k값에 따른 정확도를 acc_L1 리스트에 정리한 후 matplotlib.pyplot을 이용해 L1 계산법을 이용할 때의 각 k값에 따른 정확도의 변화를 보여주는 그래프를 그린다."
      ],
      "metadata": {
        "id": "_VhnE7H4Qmql"
      }
    },
    {
      "cell_type": "code",
      "source": [
        "k_values =[1,3,5,7,9,11,13,15] #가능한 모든 k값 설정\n",
        "acc_L1= [] #distance 계산 방법이 L1일 때 각 k값에 따른 정확도 저장 리스트\n",
        "\n",
        "for k in k_values:\n",
        "    NN = NearestNeighbor()\n",
        "    NN.train(train_data, train_label)\n",
        "    test_in = test_data[:test_size]\n",
        "    pred = NN.predict(test_in,k,'L1')\n",
        "\n",
        "    num_correct = np.sum(pred == test_label[:test_size])\n",
        "    accuracy = float(num_correct) / test_size\n",
        "    acc_L1.append(accuracy)\n",
        "\n",
        "# 그래프 그리기\n",
        "plt.plot(k_values, acc_L1, marker='o')\n",
        "plt.title('Accuracy vs. K (L1)')\n",
        "plt.xlabel('K')\n",
        "plt.ylabel('Accuracy')\n",
        "plt.xticks(k_values)\n",
        "plt.grid(True)\n",
        "plt.show()"
      ],
      "metadata": {
        "colab": {
          "base_uri": "https://localhost:8080/",
          "height": 472
        },
        "id": "Ba7zCxZ004DB",
        "outputId": "7047960a-e9c0-4bbd-d9e3-902308d74ffe"
      },
      "execution_count": 22,
      "outputs": [
        {
          "output_type": "display_data",
          "data": {
            "text/plain": [
              "<Figure size 640x480 with 1 Axes>"
            ],
            "image/png": "[encoded data removed]"
          },
          "metadata": {}
        }
      ]
    },
    {
      "cell_type": "markdown",
      "source": [
        "위의 코드와 동일한 k값 리스트를 정의한 후 predict 메소드의 매개변수를 L2로 주면 L2 계산법으로 거리 및 정확도를 구하여 acc_L2에 정확도를 정리하고 각 k값에 따른 정확도 그래프를 그린다."
      ],
      "metadata": {
        "id": "_bba1c9NRK9e"
      }
    },
    {
      "cell_type": "code",
      "source": [
        "k_values =[1,3,5,7,9,11,13,15] #가능한 모든 k값 설정\n",
        "acc_L2= [] #distance 계산 방법이 L2일 때 각 k값에 따른 정확도 저장 리스트\n",
        "\n",
        "for k in k_values:\n",
        "    NN = NearestNeighbor()\n",
        "    NN.train(train_data, train_label)\n",
        "    test_in = test_data[:test_size]\n",
        "    pred = NN.predict(test_in,k,\"L2\")\n",
        "\n",
        "    num_correct = np.sum(pred == test_label[:test_size])\n",
        "    accuracy = float(num_correct) / test_size\n",
        "    acc_L2.append(accuracy)\n",
        "\n",
        "# 그래프 그리기\n",
        "plt.plot(k_values, acc_L2, marker='o')\n",
        "plt.title('Accuracy vs. K (L2)')\n",
        "plt.xlabel('K')\n",
        "plt.ylabel('Accuracy')\n",
        "plt.xticks(k_values)\n",
        "plt.grid(True)\n",
        "plt.show()"
      ],
      "metadata": {
        "colab": {
          "base_uri": "https://localhost:8080/",
          "height": 472
        },
        "id": "RowHzjcmCR2b",
        "outputId": "cb631005-e17a-4b41-9b88-8b4594ce7ae9"
      },
      "execution_count": 23,
      "outputs": [
        {
          "output_type": "display_data",
          "data": {
            "text/plain": [
              "<Figure size 640x480 with 1 Axes>"
            ],
            "image/png": "[encoded data removed]"
          },
          "metadata": {}
        }
      ]
    },
    {
      "cell_type": "markdown",
      "source": [
        "L1과 L2계산법에 따른 정확도 차이를 시각적으로 보기 쉽게 나타내기 위해 하나의 평면에 k값에 따른 L2와 L1의 정확도 모두를 나타냈다. x축은 k값을, y축은 k값에 따라 두가지 방법으로 계산한 정확도를 나타낸다."
      ],
      "metadata": {
        "id": "w4EVQ9EuRh-C"
      }
    },
    {
      "cell_type": "code",
      "source": [
        "plt.plot(k_values, acc_L1, marker='o')\n",
        "plt.plot(k_values, acc_L2, marker='o')\n",
        "plt.title('Accuracy Comparison')\n",
        "plt.xlabel('K')\n",
        "plt.ylabel('Accuracy')\n",
        "plt.xticks(k_values)\n",
        "plt.legend()\n",
        "plt.grid(True)\n",
        "plt.show()"
      ],
      "metadata": {
        "id": "HDhq9LFG1f3t",
        "colab": {
          "base_uri": "https://localhost:8080/",
          "height": 510
        },
        "outputId": "09d662c7-658c-45f4-bf8b-8617d0d878bf"
      },
      "execution_count": 24,
      "outputs": [
        {
          "output_type": "stream",
          "name": "stderr",
          "text": [
            "WARNING:matplotlib.legend:No artists with labels found to put in legend.  Note that artists whose label start with an underscore are ignored when legend() is called with no argument.\n"
          ]
        },
        {
          "output_type": "display_data",
          "data": {
            "text/plain": [
              "<Figure size 640x480 with 1 Axes>"
            ],
            "image/png": "[encoded data removed]"
          },
          "metadata": {}
        }
      ]
    },
    {
      "cell_type": "markdown",
      "source": [
        "추가로 k값을 입력받을 때의 예외처리가 제대로 되었는지 확인하기 위해 짝수, 음수, 15를 초과한 수를 입력해 본 경우이다. 올바른 수를 입력할 때까지 k값을 다시 입력받는 것을 확인할 수 있다."
      ],
      "metadata": {
        "id": "t6xV5t3PSNxh"
      }
    },
    {
      "cell_type": "code",
      "source": [
        "while True:\n",
        "  k=int(input(\"1~15사이의 홀수를 입력하세요:\"))\n",
        "  if k>15 or k<1 or k%2==0:\n",
        "    print(\"잘못된 입력입니다.\")\n",
        "  else:\n",
        "    break\n",
        "test_in = test_data[0:test_size]\n",
        "pred = NN.predict(test_in, k,'L1')\n",
        "num_correct = np.sum(pred == test_label[0:test_size])\n",
        "accuracy = float(num_correct) / test_size\n",
        "print(pred)\n",
        "print(test_label[0:test_size])\n",
        "print(\"The accuracy is (%):\", accuracy*100)"
      ],
      "metadata": {
        "colab": {
          "base_uri": "https://localhost:8080/"
        },
        "id": "slz-e71VC2EX",
        "outputId": "60b5b17e-14eb-491d-e0bc-dfc8760941d5"
      },
      "execution_count": 25,
      "outputs": [
        {
          "output_type": "stream",
          "name": "stdout",
          "text": [
            "1~15사이의 홀수를 입력하세요:6\n",
            "잘못된 입력입니다.\n",
            "1~15사이의 홀수를 입력하세요:-1\n",
            "잘못된 입력입니다.\n",
            "1~15사이의 홀수를 입력하세요:90\n",
            "잘못된 입력입니다.\n",
            "1~15사이의 홀수를 입력하세요:5\n",
            "[0 1 8 0 0 2 4 0 0 8]\n",
            "[3, 8, 8, 0, 6, 6, 1, 6, 3, 1]\n",
            "The accuracy is (%): 20.0\n"
          ]
        }
      ]
    }
  ]
}